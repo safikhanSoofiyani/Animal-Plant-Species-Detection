{
  "nbformat": 4,
  "nbformat_minor": 0,
  "metadata": {
    "colab": {
      "name": "Data Generation.ipynb",
      "provenance": [],
      "collapsed_sections": []
    },
    "kernelspec": {
      "name": "python3",
      "display_name": "Python 3"
    },
    "language_info": {
      "name": "python"
    }
  },
  "cells": [
    {
      "cell_type": "markdown",
      "source": [
        "# Number Data Generation"
      ],
      "metadata": {
        "id": "wi0H_2Ze_iOE"
      }
    },
    {
      "cell_type": "markdown",
      "source": [
        "##Import Libraries"
      ],
      "metadata": {
        "id": "vDKkTWP4HkAr"
      }
    },
    {
      "cell_type": "code",
      "source": [
        "import random\n",
        "# !pip install num_to_word\n",
        "# from num_to_word import num_to_word\n",
        "!pip install num2words\n",
        "from num2words import num2words"
      ],
      "metadata": {
        "colab": {
          "base_uri": "https://localhost:8080/"
        },
        "id": "cNSDh5PvHmzi",
        "outputId": "c8ff8827-22ee-40c2-f1b2-17de4c8ffa9d"
      },
      "execution_count": 3,
      "outputs": [
        {
          "output_type": "stream",
          "name": "stdout",
          "text": [
            "Looking in indexes: https://pypi.org/simple, https://us-python.pkg.dev/colab-wheels/public/simple/\n",
            "Collecting num2words\n",
            "  Downloading num2words-0.5.12-py3-none-any.whl (125 kB)\n",
            "\u001b[K     |████████████████████████████████| 125 kB 5.1 MB/s \n",
            "\u001b[?25hCollecting docopt>=0.6.2\n",
            "  Downloading docopt-0.6.2.tar.gz (25 kB)\n",
            "Building wheels for collected packages: docopt\n",
            "  Building wheel for docopt (setup.py) ... \u001b[?25l\u001b[?25hdone\n",
            "  Created wheel for docopt: filename=docopt-0.6.2-py2.py3-none-any.whl size=13723 sha256=2b25ca244371466bb582b31423573550d61986fdd5ac24cb073d82ec62af5c00\n",
            "  Stored in directory: /root/.cache/pip/wheels/72/b0/3f/1d95f96ff986c7dfffe46ce2be4062f38ebd04b506c77c81b9\n",
            "Successfully built docopt\n",
            "Installing collected packages: docopt, num2words\n",
            "Successfully installed docopt-0.6.2 num2words-0.5.12\n"
          ]
        }
      ]
    },
    {
      "cell_type": "markdown",
      "source": [
        "Importing the Indic-num2words repository"
      ],
      "metadata": {
        "id": "OzlvsudUgj24"
      }
    },
    {
      "cell_type": "code",
      "source": [
        "! git clone https://github.com/sutariyaraj/indic-num2words.git"
      ],
      "metadata": {
        "id": "tgHNpOwJgius",
        "outputId": "13ac4d35-e551-4d50-d18c-7102abf991b6",
        "colab": {
          "base_uri": "https://localhost:8080/"
        }
      },
      "execution_count": 4,
      "outputs": [
        {
          "output_type": "stream",
          "name": "stdout",
          "text": [
            "Cloning into 'indic-num2words'...\n",
            "remote: Enumerating objects: 120, done.\u001b[K\n",
            "remote: Counting objects: 100% (50/50), done.\u001b[K\n",
            "remote: Compressing objects: 100% (39/39), done.\u001b[K\n",
            "remote: Total 120 (delta 17), reused 31 (delta 6), pack-reused 70\u001b[K\n",
            "Receiving objects: 100% (120/120), 51.33 KiB | 6.42 MiB/s, done.\n",
            "Resolving deltas: 100% (44/44), done.\n"
          ]
        }
      ]
    },
    {
      "cell_type": "code",
      "source": [
        "import sys\n",
        "sys.path.insert(0,'/content/indic-num2words')"
      ],
      "metadata": {
        "id": "Nd5zpUkEgprt"
      },
      "execution_count": 5,
      "outputs": []
    },
    {
      "cell_type": "code",
      "source": [
        "from num_to_words.num_to_words import num_to_word"
      ],
      "metadata": {
        "id": "oR4amqpwiS1f"
      },
      "execution_count": null,
      "outputs": []
    },
    {
      "cell_type": "markdown",
      "source": [
        "## Step - 1 : Random Number Generation"
      ],
      "metadata": {
        "id": "0puV6va2_nTM"
      }
    },
    {
      "cell_type": "code",
      "execution_count": null,
      "metadata": {
        "id": "M9mcJJLe_eBN"
      },
      "outputs": [],
      "source": [
        "import random\n",
        "\n",
        "def random_number_gen(max_length: int) -> str:\n",
        "  \n",
        "  '''\n",
        "    input: max_length - int -  denotes the maximum length of the random number\n",
        "    return: number - string - the random number generated\n",
        "  '''\n",
        "\n",
        "  #First generating a random number to get the length (1-max_length)\n",
        "  length = random.randrange(1,max_length+1)\n",
        "\n",
        "  #Now generating a random number of above length\n",
        "  number = ''.join([\"{}\".format(random.randrange(0, 10)) for _ in range(0, length)])\n",
        "  return number"
      ]
    },
    {
      "cell_type": "code",
      "source": [
        "print(random_number_gen(10))"
      ],
      "metadata": {
        "colab": {
          "base_uri": "https://localhost:8080/"
        },
        "id": "uf73SHbfElnG",
        "outputId": "021dca7e-f3ef-4ac4-938f-96831f244be4"
      },
      "execution_count": null,
      "outputs": [
        {
          "output_type": "stream",
          "name": "stdout",
          "text": [
            "0975371\n"
          ]
        }
      ]
    },
    {
      "cell_type": "markdown",
      "source": [
        "## Step - 2 : Random Segments Generation"
      ],
      "metadata": {
        "id": "UtlGcaHG_rqa"
      }
    },
    {
      "cell_type": "code",
      "source": [
        "def random_segment_gen(num, max_segment_len): \n",
        "  '''\n",
        "  Inputs - \n",
        "    #num is a string of 10 digits - string\n",
        "    #max_segment_len is the max_len of every segment - int\n",
        "\n",
        "  Output - \n",
        "    returns a list of every segment of num \n",
        "  '''\n",
        "\n",
        "  #get random segment len in the range (1, max_segment_len)\n",
        "  segment_len = random.randrange(1, max_segment_len+1)\n",
        "\n",
        "  '''\n",
        "    Shouldnt each string be split into different segment sizes?\n",
        "    Instead of all segments being of the size segment_len.\n",
        "    Like one segment of length 2 another of 1 and so on until the \n",
        "    string end.\n",
        "  '''\n",
        "\n",
        "  #get the list of all segments of len segment_len from num\n",
        "  segment_list = [num[i:i+segment_len] for i in range(0, len(num), segment_len)]\n",
        "\n",
        "  return segment_list\n",
        "\n"
      ],
      "metadata": {
        "id": "iXeqJVUL_vg-"
      },
      "execution_count": 1,
      "outputs": []
    },
    {
      "cell_type": "code",
      "source": [
        "print(random_segment_gen(\"1232434320\", 3))"
      ],
      "metadata": {
        "colab": {
          "base_uri": "https://localhost:8080/"
        },
        "id": "ihPEcYwDJRT7",
        "outputId": "3a3cbbb8-9f1b-4079-c8ef-c38ec978d64d"
      },
      "execution_count": 8,
      "outputs": [
        {
          "output_type": "stream",
          "name": "stdout",
          "text": [
            "['123', '243', '432', '0']\n"
          ]
        }
      ]
    },
    {
      "cell_type": "markdown",
      "source": [
        "## Step -3 Converting to Words (Num2Word)"
      ],
      "metadata": {
        "id": "dtSIDLfC_vuv"
      }
    },
    {
      "cell_type": "code",
      "source": [
        "def choose_lang(choice):\n",
        "  '''\n",
        "  Input -\n",
        "    choice is the numerical value mapped to the language\n",
        "\n",
        "  Output - \n",
        "    returns lang code for num2words\n",
        "  '''\n",
        "\n",
        "  if(choice == 1):\n",
        "    return 'en'\n",
        "\n",
        "  if(choice == 2):\n",
        "    return 'hi'\n"
      ],
      "metadata": {
        "id": "99HY_PLIO7Sx"
      },
      "execution_count": 11,
      "outputs": []
    },
    {
      "cell_type": "code",
      "source": [
        "def generate_data(segment_list, num_of_lang):\n",
        "  '''\n",
        "  Inputs - \n",
        "    segment_list = list of segments - each segment is a string of digits of variable len\n",
        "    num_of_lang = total number of languages for the data\n",
        "\n",
        "  Outputs - list of words(in En or Hi) corresponding to input list\n",
        "  '''\n",
        "\n",
        "  #On every segment\n",
        "  for seg in segment_list:\n",
        "    #1. Choose the language randomly - 0 = english, 1 = hindi\n",
        "    lang_num = random.randrange(1, num_of_lang+1)\n",
        "    lang = choose_lang(lang_num)\n",
        "    # print(num_to_word(int(seg), lang = lang))\n",
        "    print(num2words(int(seg), lang = lang))\n",
        "\n"
      ],
      "metadata": {
        "id": "AJxhswxP_1iy"
      },
      "execution_count": 10,
      "outputs": []
    },
    {
      "cell_type": "code",
      "source": [
        "segment_list = random_segment_gen(\"1232434320\", 6)\n",
        "generate_data(segment_list, 1)"
      ],
      "metadata": {
        "colab": {
          "base_uri": "https://localhost:8080/"
        },
        "id": "vI6XM4lrQawm",
        "outputId": "0f17f3e3-5e83-40f3-c5bd-18cc4c867ea5"
      },
      "execution_count": 12,
      "outputs": [
        {
          "output_type": "stream",
          "name": "stdout",
          "text": [
            "one thousand, two hundred and thirty-two\n",
            "four thousand, three hundred and forty-three\n",
            "twenty\n"
          ]
        }
      ]
    },
    {
      "cell_type": "markdown",
      "source": [
        "## Step - 4 Combining All"
      ],
      "metadata": {
        "id": "rZv2LTBg_2pf"
      }
    },
    {
      "cell_type": "code",
      "source": [],
      "metadata": {
        "id": "OzMStI8A_6UJ"
      },
      "execution_count": null,
      "outputs": []
    }
  ]
}